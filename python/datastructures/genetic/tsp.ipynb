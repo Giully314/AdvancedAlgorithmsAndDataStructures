{
 "cells": [
  {
   "cell_type": "code",
   "execution_count": 26,
   "metadata": {},
   "outputs": [],
   "source": [
    "from chromosome import *\n",
    "from itertools import permutations\n",
    "import random"
   ]
  },
  {
   "cell_type": "code",
   "execution_count": 27,
   "metadata": {},
   "outputs": [],
   "source": [
    "def read_distances():\n",
    "    filename = \"tsp_data/distances.txt\"\n",
    "    with open(filename) as f:\n",
    "        distances = [[int(d) for d in x.split()] for x in f.readlines()]\n",
    "\n",
    "    return distances \n",
    "\n",
    "def read_solution():\n",
    "    filename = \"tsp_data/solution.txt\"\n",
    "    with open(filename) as f:\n",
    "        solution = [int(x) - 1 for x in f.readlines()] # subtract -1 because the index starts from 1\n",
    "    return solution"
   ]
  },
  {
   "cell_type": "code",
   "execution_count": 28,
   "metadata": {},
   "outputs": [],
   "source": [
    "solution = read_solution()"
   ]
  },
  {
   "cell_type": "code",
   "execution_count": 29,
   "metadata": {},
   "outputs": [],
   "source": [
    "# list of list. distances[i] contains all the distances from i to every other city\n",
    "distances = read_distances()"
   ]
  },
  {
   "cell_type": "code",
   "execution_count": 30,
   "metadata": {},
   "outputs": [
    {
     "name": "stdout",
     "output_type": "stream",
     "text": [
      "33551\n"
     ]
    }
   ],
   "source": [
    "# optimal_cost = 0\n",
    "# for city_1, city_2 in zip(solution[:-1], solution[1:]):\n",
    "#     print(city_1, city_2)\n",
    "#     optimal_cost += distances[city_1][city_2]\n",
    "\n",
    "optimal_cost = sum([distances[city_1][city_2] for city_1, city_2 in zip(solution[:-1], solution[1:])])\n",
    "print(optimal_cost)"
   ]
  },
  {
   "cell_type": "code",
   "execution_count": 31,
   "metadata": {},
   "outputs": [],
   "source": [
    "cities = [i for i in range(len(distances))]"
   ]
  },
  {
   "cell_type": "code",
   "execution_count": 32,
   "metadata": {},
   "outputs": [],
   "source": [
    "class TSPIndividual(Individual):\n",
    "    distances: list[list[int]] = distances\n",
    "\n",
    "    def __init__(self, cities: list[int]):\n",
    "        super().__init__(list(cities))\n",
    "\n",
    "    def fitness(self) -> int:\n",
    "        \"\"\" \n",
    "        Compute the distance encoded in the chromosome.\n",
    "        This value must be minimized.\n",
    "        \"\"\"\n",
    "        distance = 0\n",
    "        for city1, city2 in zip(self.chromosome[:-1], self.chromosome[1:]):\n",
    "            distance += self.distances[city1][city2]\n",
    "        # add the distance from the last city back to the first one\n",
    "        # print(self.chromosome[-1], self.chromosome[0])\n",
    "        distance += self.distances[self.chromosome[-1]][self.chromosome[0]]\n",
    "        return -distance\n",
    "\n",
    "class TSPChromosomeInit:\n",
    "    def __init__(self, cities):\n",
    "        self.cities = list(cities)\n",
    "        # self.g_cities = permutations(cities)\n",
    "\n",
    "    def __call__(self) -> list[int]:\n",
    "        random.shuffle(self.cities)\n",
    "        return TSPIndividual(list(self.cities))\n",
    "    \n",
    "\n",
    "def swap_adjacent(x: TSPIndividual, mutation_chance: float):\n",
    "    i = random.randint(0, len(x)-1)\n",
    "    x[i], x[(i + 1) % len(x)] = x[(i + 1) % len(x)], x[i]\n",
    "\n",
    "def swap_any(x: TSPIndividual, mutation_chance: float):\n",
    "    i = random.randint(0, len(x)-1)\n",
    "    j = random.randint(0, len(x)-1)\n",
    "    x[i], x[j] = x[j], x[i]\n",
    "\n",
    "def tsp_simple_crossover(x: TSPIndividual, y: TSPIndividual) -> TSPIndividual:\n",
    "    cut_point = random.randint(1, len(x) - 2) # at least one gene is taken from each parent (that's why 1 : len - 2)\n",
    "    new_chromosome = x.chromosome[0 : cut_point]\n",
    "    genes_from_x = set(new_chromosome)\n",
    "    for chr in y.chromosome:\n",
    "        if chr not in genes_from_x:\n",
    "            new_chromosome.append(chr)\n",
    "    return TSPIndividual(new_chromosome)\n",
    "\n",
    "class TSPMatingSelection:\n",
    "    def __init__(self, k = 15):\n",
    "        self.k = k\n",
    "\n",
    "    def __call__(self, population: list[Individual]) -> Individual:\n",
    "        return tournament_selection(population, self.k)"
   ]
  },
  {
   "cell_type": "code",
   "execution_count": 40,
   "metadata": {},
   "outputs": [],
   "source": [
    "def best_fitness(individuals: list[TSPIndividual]) -> int:\n",
    "    return max([x.fitness() for x in individuals])"
   ]
  },
  {
   "cell_type": "code",
   "execution_count": 36,
   "metadata": {},
   "outputs": [],
   "source": [
    "tsp_init = TSPChromosomeInit(cities)\n",
    "tsp_mutation = MutationOperator(swap_any, 0.5)\n",
    "tsp_crossover = CrossoverOperator(tsp_simple_crossover, 0.2)\n",
    "tsp_mating_selection = TSPMatingSelection(k=15)\n",
    "start_population = init_population(1000, tsp_init)"
   ]
  },
  {
   "cell_type": "code",
   "execution_count": 37,
   "metadata": {},
   "outputs": [
    {
     "data": {
      "text/plain": [
       "-186457"
      ]
     },
     "execution_count": 37,
     "metadata": {},
     "output_type": "execute_result"
    }
   ],
   "source": [
    "best_fitness(start_population)"
   ]
  },
  {
   "cell_type": "code",
   "execution_count": 38,
   "metadata": {},
   "outputs": [],
   "source": [
    "iterations = 1000\n",
    "population = list(start_population)\n",
    "for i in range(iterations):\n",
    "    # print(f\"Iter {i}   best fitness: {best_fitness(population)}\")\n",
    "    population = natural_selection(population, None, tsp_mating_selection, tsp_crossover, [tsp_mutation])"
   ]
  },
  {
   "cell_type": "code",
   "execution_count": 41,
   "metadata": {},
   "outputs": [
    {
     "data": {
      "text/plain": [
       "-88334"
      ]
     },
     "execution_count": 41,
     "metadata": {},
     "output_type": "execute_result"
    }
   ],
   "source": [
    "best_fitness(population)"
   ]
  }
 ],
 "metadata": {
  "kernelspec": {
   "display_name": "Python 3",
   "language": "python",
   "name": "python3"
  },
  "language_info": {
   "codemirror_mode": {
    "name": "ipython",
    "version": 3
   },
   "file_extension": ".py",
   "mimetype": "text/x-python",
   "name": "python",
   "nbconvert_exporter": "python",
   "pygments_lexer": "ipython3",
   "version": "3.11.2"
  },
  "orig_nbformat": 4
 },
 "nbformat": 4,
 "nbformat_minor": 2
}
